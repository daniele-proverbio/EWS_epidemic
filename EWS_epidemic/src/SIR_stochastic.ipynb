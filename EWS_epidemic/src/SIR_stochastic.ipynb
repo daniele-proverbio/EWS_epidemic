{
 "cells": [
  {
   "cell_type": "code",
   "execution_count": 1,
   "metadata": {},
   "outputs": [
    {
     "name": "stdout",
     "output_type": "stream",
     "text": [
      "Populating the interactive namespace from numpy and matplotlib\n"
     ]
    }
   ],
   "source": [
    "%pylab inline"
   ]
  },
  {
   "cell_type": "markdown",
   "metadata": {},
   "source": [
    "# Simulate SIR stochastic dynamics\n",
    "Code from: http://epirecip.es/epicookbook/chapters/sir-stochastic-discretestate-discretetime/python  \n",
    "Aim: visualise epidemic time series"
   ]
  },
  {
   "cell_type": "code",
   "execution_count": 4,
   "metadata": {},
   "outputs": [],
   "source": [
    "import numpy as np\n",
    "import math\n",
    "import pandas as pd\n",
    "import matplotlib.pyplot as plt"
   ]
  },
  {
   "cell_type": "code",
   "execution_count": 23,
   "metadata": {},
   "outputs": [],
   "source": [
    "def sir(u,parms,t):\n",
    "    bet,gamm,iota,N,dt=parms\n",
    "    S,I,R=u\n",
    "    lambd = bet*(I+iota)/N\n",
    "    ifrac = 1.0 - math.exp(-lambd*dt)\n",
    "    rfrac = 1.0 - math.exp(-gamm*dt)\n",
    "    infection = np.random.binomial(S,ifrac)\n",
    "    recovery = np.random.binomial(I,rfrac)\n",
    "    return [S-infection,I+infection-recovery,R+recovery]\n",
    "\n",
    "def simulate():\n",
    "    parms = [0.7, 0.3, 0.0, 1000.0, 0.1]\n",
    "    tf = 50\n",
    "    tl = 501\n",
    "    t = np.linspace(0,tf,tl)\n",
    "    S = np.zeros(tl)\n",
    "    I = np.zeros(tl)\n",
    "    R = np.zeros(tl)\n",
    "    u = [999,1,0]\n",
    "    S[0],I[0],R[0] = u\n",
    "    for j in range(1,tl):\n",
    "        u = sir(u,parms,t[j])\n",
    "        S[j],I[j],R[j] = u\n",
    "    return {'t':t,'S':S,'I':I,'R':R}\n"
   ]
  },
  {
   "cell_type": "code",
   "execution_count": 24,
   "metadata": {},
   "outputs": [],
   "source": [
    "sir_out = pd.DataFrame(simulate())"
   ]
  },
  {
   "cell_type": "code",
   "execution_count": 26,
   "metadata": {},
   "outputs": [
    {
     "data": {
      "image/png": "[encoded data removed]",
      "text/plain": [
       "<Figure size 432x288 with 1 Axes>"
      ]
     },
     "metadata": {
      "needs_background": "light"
     },
     "output_type": "display_data"
    }
   ],
   "source": [
    "fig = plt.figure()\n",
    "sline = plt.plot(\"t\",\"S\",\"\",data=sir_out,color=\"red\",linewidth=1)\n",
    "iline = plt.plot(\"t\",\"I\",\"\",data=sir_out,color=\"green\",linewidth=1)\n",
    "rline = plt.plot(\"t\",\"R\",\"\",data=sir_out,color=\"blue\",linewidth=1)\n",
    "plt.xlabel(\"Time\",fontweight=\"bold\")\n",
    "plt.ylabel(\"Number\",fontweight=\"bold\")\n",
    "legend = plt.legend(title=\"Population\",loc=5,bbox_to_anchor=(1.25,0.5))\n",
    "frame = legend.get_frame()\n",
    "frame.set_facecolor(\"white\")\n",
    "frame.set_linewidth(0)\n",
    "fig.savefig(\"/Users/daniele.proverbio/Documents/PHD_Lussemburgo/PHD/Group-Meetings/2021_02_17_groupMeeting/simulation_SIR.pdf\",bbox_inches = \"tight\",transparent=True)\n"
   ]
  },
  {
   "cell_type": "code",
   "execution_count": null,
   "metadata": {},
   "outputs": [],
   "source": []
  }
 ],
 "metadata": {
  "kernelspec": {
   "display_name": "Python 3",
   "language": "python",
   "name": "python3"
  },
  "language_info": {
   "codemirror_mode": {
    "name": "ipython",
    "version": 3
   },
   "file_extension": ".py",
   "mimetype": "text/x-python",
   "name": "python",
   "nbconvert_exporter": "python",
   "pygments_lexer": "ipython3",
   "version": "3.7.6"
  }
 },
 "nbformat": 4,
 "nbformat_minor": 4
}
